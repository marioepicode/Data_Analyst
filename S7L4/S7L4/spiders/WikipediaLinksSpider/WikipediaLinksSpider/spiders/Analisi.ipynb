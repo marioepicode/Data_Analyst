{
 "cells": [
  {
   "cell_type": "code",
   "execution_count": 9,
   "id": "5fdd15ca-83f4-495a-b1f7-7eddab2bc0e2",
   "metadata": {
    "tags": []
   },
   "outputs": [
    {
     "name": "stdout",
     "output_type": "stream",
     "text": [
      "                  link\n",
      "0  //en.wikipedia.org/\n",
      "1  //ru.wikipedia.org/\n",
      "2  //ja.wikipedia.org/\n",
      "3  //es.wikipedia.org/\n",
      "4  //de.wikipedia.org/\n"
     ]
    }
   ],
   "source": [
    "import pandas as pd\n",
    "\n",
    "df = pd.read_csv('links.csv')\n",
    "\n",
    "print(df.head())\n"
   ]
  },
  {
   "cell_type": "code",
   "execution_count": 13,
   "id": "ca97ddd6-8489-47b3-9591-382f61d4d135",
   "metadata": {
    "tags": []
   },
   "outputs": [
    {
     "name": "stdout",
     "output_type": "stream",
     "text": [
      "Link duplicati e il numero di duplicazioni:\n",
      "link\n",
      "//en.wikipedia.org/    2\n",
      "//it.wikipedia.org/    2\n",
      "//ru.wikipedia.org/    2\n",
      "//ar.wikipedia.org/    2\n",
      "//zh.wikipedia.org/    2\n",
      "//fa.wikipedia.org/    2\n",
      "//fr.wikipedia.org/    2\n",
      "//de.wikipedia.org/    2\n",
      "//es.wikipedia.org/    2\n",
      "//ja.wikipedia.org/    2\n",
      "Name: count, dtype: int64\n"
     ]
    }
   ],
   "source": [
    "duplicate_links_count = df['link'].value_counts()\n",
    "\n",
    "duplicate_links = duplicate_links_count[duplicate_links_count > 1]\n",
    "\n",
    " \n",
    "print(\"Link duplicati e il numero di duplicazioni:\")\n",
    "print(duplicate_links)"
   ]
  }
 ],
 "metadata": {
  "kernelspec": {
   "display_name": "Python 3 (ipykernel)",
   "language": "python",
   "name": "python3"
  },
  "language_info": {
   "codemirror_mode": {
    "name": "ipython",
    "version": 3
   },
   "file_extension": ".py",
   "mimetype": "text/x-python",
   "name": "python",
   "nbconvert_exporter": "python",
   "pygments_lexer": "ipython3",
   "version": "3.11.5"
  }
 },
 "nbformat": 4,
 "nbformat_minor": 5
}
